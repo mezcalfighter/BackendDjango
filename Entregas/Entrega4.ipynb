{
 "cells": [
  {
   "cell_type": "code",
   "execution_count": null,
   "id": "ba44029e",
   "metadata": {},
   "outputs": [],
   "source": [
    "print(\"Carrito de compras\\n\") \n",
    "print(\"\"\" \n",
    "Productos Disponibles:\n",
    "1.- Pan \n",
    "2.- Jamón \n",
    "3.- Crema \n",
    "4.- Mayonesa \n",
    "5.- Lechuga \n",
    "6.- Arroz\n",
    "7.- Jitomate\n",
    "8.- Dr. Pepper\n",
    "\"\"\") \n",
    "\n",
    "print(\"Ingresa una lista con los productos en este formato: [[Cantidad,Producto]]\") \n",
    "print(\"Por ejemplo: [[1,1], [3,2]] significa 1 Pan y 3 Jamón\" ) \n",
    "\n",
    "my_shopping_cart = eval(input())\n",
    "\n",
    "print(\"\\n\\nTu carrito es:\") \n",
    "if type(my_shopping_cart) == list:    \n",
    "    if type(my_shopping_cart[0]) == list:        \n",
    "        for element in my_shopping_cart:            \n",
    "            product = \"\"            \n",
    "            if element[1] == 1:\n",
    "                product = \"Pan\"            \n",
    "            elif element[1] == 2:                \n",
    "                product = \"Jamón\"           \n",
    "            elif element[1] == 3:\n",
    "                product = \"Crema\"            \n",
    "            elif element[1] == 4:                \n",
    "                product = \"Mayonesa\"            \n",
    "            elif element[1] == 5:                \n",
    "                product = \"Lechuga\"\n",
    "            elif element[1] == 5:                \n",
    "                product = \"Arroz\" \n",
    "            elif element[1] == 5:                \n",
    "                product = \"Jitomate\" \n",
    "            elif element[1] == 5:                \n",
    "                product = \"Dr. Pepper\" \n",
    "            print(\"{} {}\".format(element[0], product))    \n",
    "    else:        \n",
    "        print(\"Formato incorrecto, debes ingresar una lista de listas\") \n",
    "else:    \n",
    "    print(\"Formato incorrecto, debes ingresar una lista de listas\")\n"
   ]
  }
 ],
 "metadata": {
  "kernelspec": {
   "display_name": "Python 3 (ipykernel)",
   "language": "python",
   "name": "python3"
  },
  "language_info": {
   "codemirror_mode": {
    "name": "ipython",
    "version": 3
   },
   "file_extension": ".py",
   "mimetype": "text/x-python",
   "name": "python",
   "nbconvert_exporter": "python",
   "pygments_lexer": "ipython3",
   "version": "3.11.5"
  }
 },
 "nbformat": 4,
 "nbformat_minor": 5
}
