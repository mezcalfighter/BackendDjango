{
 "cells": [
  {
   "cell_type": "markdown",
   "id": "006deecf",
   "metadata": {},
   "source": [
    "## Funcion eval()"
   ]
  },
  {
   "cell_type": "code",
   "execution_count": 3,
   "id": "187d549a",
   "metadata": {},
   "outputs": [
    {
     "name": "stdout",
     "output_type": "stream",
     "text": [
      "1022\n"
     ]
    }
   ],
   "source": [
    "my_number = 22\n",
    "print(eval(\"my_number+1000\"))"
   ]
  },
  {
   "cell_type": "code",
   "execution_count": 4,
   "id": "ff746e14",
   "metadata": {},
   "outputs": [
    {
     "name": "stdout",
     "output_type": "stream",
     "text": [
      "Ingresa un numero: 123\n"
     ]
    }
   ],
   "source": [
    "my_input = input(\"Ingresa un numero: \")"
   ]
  },
  {
   "cell_type": "code",
   "execution_count": 5,
   "id": "1b60b463",
   "metadata": {},
   "outputs": [
    {
     "data": {
      "text/plain": [
       "123"
      ]
     },
     "execution_count": 5,
     "metadata": {},
     "output_type": "execute_result"
    }
   ],
   "source": [
    "eval(my_input)"
   ]
  },
  {
   "cell_type": "code",
   "execution_count": 6,
   "id": "c454ce6c",
   "metadata": {},
   "outputs": [
    {
     "data": {
      "text/plain": [
       "int"
      ]
     },
     "execution_count": 6,
     "metadata": {},
     "output_type": "execute_result"
    }
   ],
   "source": [
    "type(my_input) #str\n",
    "type(eval(my_input)) #int"
   ]
  },
  {
   "cell_type": "markdown",
   "id": "6807c332",
   "metadata": {},
   "source": [
    "## Funcion range() y xrange() -> xrange (deprecated)"
   ]
  },
  {
   "cell_type": "code",
   "execution_count": null,
   "id": "dd15018e",
   "metadata": {},
   "outputs": [],
   "source": [
    "x = range(10) # 0 - 9"
   ]
  }
 ],
 "metadata": {
  "kernelspec": {
   "display_name": "Python 3 (ipykernel)",
   "language": "python",
   "name": "python3"
  },
  "language_info": {
   "codemirror_mode": {
    "name": "ipython",
    "version": 3
   },
   "file_extension": ".py",
   "mimetype": "text/x-python",
   "name": "python",
   "nbconvert_exporter": "python",
   "pygments_lexer": "ipython3",
   "version": "3.11.5"
  }
 },
 "nbformat": 4,
 "nbformat_minor": 5
}
