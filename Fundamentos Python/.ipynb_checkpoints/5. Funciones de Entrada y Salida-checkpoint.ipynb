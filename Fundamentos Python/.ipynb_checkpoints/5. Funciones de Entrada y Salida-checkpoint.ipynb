{
 "cells": [
  {
   "cell_type": "code",
   "execution_count": null,
   "id": "4b00895c",
   "metadata": {},
   "outputs": [],
   "source": [
    "## Multiples valores de entrada"
   ]
  },
  {
   "cell_type": "code",
   "execution_count": 1,
   "id": "2798516d",
   "metadata": {},
   "outputs": [
    {
     "name": "stdout",
     "output_type": "stream",
     "text": [
      "Ingresa el valor de my_number:70\n",
      "El valor de my_number es 70\n"
     ]
    }
   ],
   "source": [
    "my_number = input(\"Ingresa el valor de my_number:\")\n",
    "print(\"El valor de my_number es\", my_number)"
   ]
  },
  {
   "cell_type": "code",
   "execution_count": 2,
   "id": "1a24daa7",
   "metadata": {},
   "outputs": [
    {
     "name": "stdout",
     "output_type": "stream",
     "text": [
      "Ingresa 3 valores100 200 300\n",
      "El valor de a es: 100\n",
      "El valor de b es: 200\n",
      "El valor de c es: 300\n"
     ]
    }
   ],
   "source": [
    "a,b,c = input(\"Ingresa 3 valores:\").split()\n",
    "print(\"El valor de a es:\",a)\n",
    "print(\"El valor de b es:\",b)\n",
    "print(\"El valor de c es:\",c)"
   ]
  },
  {
   "cell_type": "code",
   "execution_count": 3,
   "id": "54fca569",
   "metadata": {},
   "outputs": [
    {
     "name": "stdout",
     "output_type": "stream",
     "text": [
      "Ingresa 3 valores separados por coma:100,200,300\n",
      "El valor de a es: 100\n",
      "El valor de b es: 200\n",
      "El valor de c es: 300\n"
     ]
    }
   ],
   "source": [
    "a,b,c = input(\"Ingresa 3 valores separados por coma:\").split(\",\")\n",
    "print(\"El valor de a es:\",a)\n",
    "print(\"El valor de b es:\",b)\n",
    "print(\"El valor de c es:\",c)"
   ]
  },
  {
   "cell_type": "code",
   "execution_count": null,
   "id": "58f23abf",
   "metadata": {},
   "outputs": [],
   "source": []
  }
 ],
 "metadata": {
  "kernelspec": {
   "display_name": "Python 3 (ipykernel)",
   "language": "python",
   "name": "python3"
  },
  "language_info": {
   "codemirror_mode": {
    "name": "ipython",
    "version": 3
   },
   "file_extension": ".py",
   "mimetype": "text/x-python",
   "name": "python",
   "nbconvert_exporter": "python",
   "pygments_lexer": "ipython3",
   "version": "3.11.5"
  }
 },
 "nbformat": 4,
 "nbformat_minor": 5
}
