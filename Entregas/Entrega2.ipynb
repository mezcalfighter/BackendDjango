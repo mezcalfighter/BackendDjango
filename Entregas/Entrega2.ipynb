{
 "cells": [
  {
   "cell_type": "code",
   "execution_count": 10,
   "id": "fa1a42cf",
   "metadata": {},
   "outputs": [
    {
     "name": "stdout",
     "output_type": "stream",
     "text": [
      "Ingrese la opcion deseada:\n",
      "1. Suma\n",
      "2. Resta\n",
      "3. Multiplicacion\n",
      "4. Division\n",
      "5. Potencia\n",
      "Respuesta: 3\n",
      "Ingrese el numero1: 4\n",
      "Ingrese el numero2: 3\n",
      "El resultado es: 12\n"
     ]
    }
   ],
   "source": [
    "def menu():\n",
    "    print(\"Ingrese la opcion deseada:\")\n",
    "    print(\"1. Suma\")\n",
    "    print(\"2. Resta\")\n",
    "    print(\"3. Multiplicacion\")\n",
    "    print(\"4. Division\")\n",
    "    print(\"5. Potencia\")\n",
    "    respuesta_operacion = int(input(\"Respuesta: \"))\n",
    "    seleccionar_menu(respuesta_operacion)\n",
    "\n",
    "def suma(numero1, numero2):\n",
    "    print(\"El resultado es:\",str(numero1 + numero2))\n",
    "\n",
    "def resta(numero1, numero2):\n",
    "    print(\"El resultado es:\",str(numero1 - numero2))\n",
    "    \n",
    "def multiplicacion(numero1,numero2):\n",
    "    print(\"El resultado es:\",str(numero1 * numero2))  \n",
    "\n",
    "def division(numero1, numero2):\n",
    "    print(\"El resultado es:\",str(numero1 / numero2))\n",
    "    \n",
    "def exponente(numero1, numero2):\n",
    "    print(\"El resultado es:\",str(numero1 ** numero2))\n",
    "    \n",
    "def seleccionar_menu(opcion):\n",
    "    numero1 = int(input(\"Ingrese el numero1: \"))\n",
    "    numero2 = int(input(\"Ingrese el numero2: \"))\n",
    "    if opcion == 1:\n",
    "        suma(numero1,numero2)\n",
    "        \n",
    "    elif opcion == 2:\n",
    "        resta(numero1, numero2)\n",
    "        \n",
    "    elif opcion == 3:\n",
    "        multiplicacion(numero1, numero2)\n",
    "        \n",
    "    elif opcion == 4:\n",
    "        division(numero1, numero2)\n",
    "    \n",
    "    elif opcion == 5:\n",
    "        exponente(numero1, numero2)\n",
    "        \n",
    "menu()"
   ]
  },
  {
   "cell_type": "code",
   "execution_count": null,
   "id": "442aac11",
   "metadata": {},
   "outputs": [],
   "source": []
  },
  {
   "cell_type": "code",
   "execution_count": null,
   "id": "eae493ed",
   "metadata": {},
   "outputs": [],
   "source": []
  }
 ],
 "metadata": {
  "kernelspec": {
   "display_name": "Python 3 (ipykernel)",
   "language": "python",
   "name": "python3"
  },
  "language_info": {
   "codemirror_mode": {
    "name": "ipython",
    "version": 3
   },
   "file_extension": ".py",
   "mimetype": "text/x-python",
   "name": "python",
   "nbconvert_exporter": "python",
   "pygments_lexer": "ipython3",
   "version": "3.11.5"
  }
 },
 "nbformat": 4,
 "nbformat_minor": 5
}
