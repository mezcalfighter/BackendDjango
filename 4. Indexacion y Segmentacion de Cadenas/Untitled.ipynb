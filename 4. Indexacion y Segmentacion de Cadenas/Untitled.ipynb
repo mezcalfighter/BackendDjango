{
 "cells": [
  {
   "cell_type": "markdown",
   "id": "a75b43e4",
   "metadata": {},
   "source": [
    "## Indexacion de Cadenas\n",
    "\n",
    "-  Indexacion: Significa acceder a los elemento de una variable\n",
    "- Para acceder a los elementos podemos utilizar corchetes\n",
    "- El indice o numero que pongamos se refiere a la posicion dentro de la lista ordeneada\n",
    "- La indexacion puede usarse para extraer elementos individuales de una estructura"
   ]
  },
  {
   "cell_type": "markdown",
   "id": "6bd14ed6",
   "metadata": {},
   "source": [
    "### Funciones de cadenas"
   ]
  },
  {
   "cell_type": "markdown",
   "id": "5cd8691c",
   "metadata": {},
   "source": [
    "#### split() \n",
    "\n",
    "Divide la cadena basandose en el separador especificado"
   ]
  },
  {
   "cell_type": "code",
   "execution_count": 1,
   "id": "c35b1c92",
   "metadata": {},
   "outputs": [
    {
     "name": "stdout",
     "output_type": "stream",
     "text": [
      "['El', 'curso', 'de', 'Backend', 'de', 'EBAC', 'te', 'lleva', 'de', 'la', 'mano', 'para', 'aprender', 'a', 'programar']\n"
     ]
    }
   ],
   "source": [
    "my_string = \"El curso de Backend de EBAC te lleva de la mano para aprender a programar\"\n",
    "split_result = my_string.split(\" \")\n",
    "print(split_result)"
   ]
  },
  {
   "cell_type": "code",
   "execution_count": 11,
   "id": "1737afd1",
   "metadata": {},
   "outputs": [
    {
     "name": "stdout",
     "output_type": "stream",
     "text": [
      "Fecha: 2022-09-28\n",
      "Severity: error\n",
      "Message: Este es un mensaje de error\n",
      "---------------------------------------------------------\n",
      "Fecha: 2022-09-27\n",
      "Severity: warning\n",
      "Message: Este es un mensaje de advertencia\n",
      "---------------------------------------------------------------\n",
      "Fecha: 2022-09-25\n",
      "Severity: info\n",
      "Message: Este es un mensaje informativo\n",
      "------------------------------------------------------------\n"
     ]
    }
   ],
   "source": [
    "my_string = \"\"\"2022-09-28|error|Este es un mensaje de error\n",
    "2022-09-27|warning|Este es un mensaje de advertencia\n",
    "2022-09-25|info|Este es un mensaje informativo\"\"\"\n",
    "\n",
    "logs = my_string.split(\"\\n\")\n",
    "for log in logs:\n",
    "    date, log_level, message = log.split(\"|\")\n",
    "    print(\"Fecha: {}\".format(date))\n",
    "    print(\"Severity: {}\".format(log_level))\n",
    "    print(\"Message: {}\".format(message))\n",
    "    print(\"-\"*(len(message)+30))"
   ]
  },
  {
   "cell_type": "code",
   "execution_count": 14,
   "id": "7323f430",
   "metadata": {},
   "outputs": [
    {
     "name": "stdout",
     "output_type": "stream",
     "text": [
      "20\n",
      "20\n"
     ]
    }
   ],
   "source": [
    "# index/find\n",
    "#Busca la primer posicion de la subcadena solicitada en la cadena deseada\n",
    "\n",
    "my_string = \"El curso de Backend Python de EBAC te lleva de la mano para aprender a programar\"\n",
    "print(my_string.index(\"Python\"))\n",
    "print(my_string.find(\"Python\"))"
   ]
  },
  {
   "cell_type": "code",
   "execution_count": 15,
   "id": "4a7df81a",
   "metadata": {},
   "outputs": [
    {
     "name": "stdout",
     "output_type": "stream",
     "text": [
      "2\n"
     ]
    }
   ],
   "source": [
    "# Count\n",
    "#Cuenta el numero de apariciones de la subcadena solicitada en la cadena completa\n",
    "\n",
    "my_string = \"El curso de Backend Python de EBAC te lleva de la mano para aprender a programar\"\n",
    "print(my_string.count(\"E\"))"
   ]
  },
  {
   "cell_type": "code",
   "execution_count": 16,
   "id": "97d15470",
   "metadata": {},
   "outputs": [
    {
     "name": "stdout",
     "output_type": "stream",
     "text": [
      "80\n"
     ]
    }
   ],
   "source": [
    "# Len\n",
    "# Cuenta la longitud o cuantos caracteres hay\n",
    "\n",
    "my_string = \"El curso de Backend Python de EBAC te lleva de la mano para aprender a programar\"\n",
    "print(len(my_string))"
   ]
  },
  {
   "cell_type": "code",
   "execution_count": 22,
   "id": "8fa1d014",
   "metadata": {},
   "outputs": [
    {
     "name": "stdout",
     "output_type": "stream",
     "text": [
      "[   El curso de Backend Python de EBAC te lleva de la mano para aprender a programar   ]\n",
      "[   El curso de Backend Python de EBAC te lleva de la mano para aprender a programar   ]\n"
     ]
    }
   ],
   "source": [
    "# Strip\n",
    "# Remueve espacios\n",
    "\n",
    "my_string = \"[   El curso de Backend Python de EBAC te lleva de la mano para aprender a programar   ]\"\n",
    "print(my_string)\n",
    "print(my_string.strip(\"n\"))"
   ]
  },
  {
   "cell_type": "code",
   "execution_count": 24,
   "id": "7b4915b5",
   "metadata": {},
   "outputs": [
    {
     "name": "stdout",
     "output_type": "stream",
     "text": [
      "True\n",
      "True\n",
      "True\n"
     ]
    }
   ],
   "source": [
    "# isdecimal / isnumeric / isdigit\n",
    "my_string = \"9842892701291930123\"\n",
    "print(my_string.isdecimal())\n",
    "print(my_string.isnumeric())\n",
    "print(my_string.isdigit())"
   ]
  },
  {
   "cell_type": "code",
   "execution_count": 25,
   "id": "897921a5",
   "metadata": {},
   "outputs": [
    {
     "name": "stdout",
     "output_type": "stream",
     "text": [
      "False\n",
      "True\n"
     ]
    }
   ],
   "source": [
    "# isalnum\n",
    "# Analiza si todos los caracteres son alfanumericos (letras o numeros)\n",
    "my_string = \"9842892701291.930123\"\n",
    "print(my_string.isalnum())\n",
    "\n",
    "my_string = \"9842892701291930123\"\n",
    "print(my_string.isalnum())"
   ]
  },
  {
   "cell_type": "code",
   "execution_count": 26,
   "id": "ac2dbfea",
   "metadata": {},
   "outputs": [
    {
     "name": "stdout",
     "output_type": "stream",
     "text": [
      "False\n"
     ]
    }
   ],
   "source": [
    "# isupper\n",
    "# Analiza si todas las letras presentes en la cadena son mayusculas\n",
    "\n",
    "my_string = \"El curso de Backend Python de EBAC te lleva de la mano para aprender a programar\"\n",
    "print(my_string.isupper())"
   ]
  },
  {
   "cell_type": "code",
   "execution_count": 27,
   "id": "3b0fea0e",
   "metadata": {},
   "outputs": [
    {
     "name": "stdout",
     "output_type": "stream",
     "text": [
      "False\n"
     ]
    }
   ],
   "source": [
    "# islower\n",
    "# Analiza si todas las letras presentes en la cadena son minusculas\n",
    "\n",
    "my_string = \"El curso de Backend Python de EBAC te lleva de la mano para aprender a programar\"\n",
    "print(my_string.islower())"
   ]
  },
  {
   "cell_type": "code",
   "execution_count": 28,
   "id": "174851cf",
   "metadata": {},
   "outputs": [
    {
     "name": "stdout",
     "output_type": "stream",
     "text": [
      "123|22|399\n"
     ]
    }
   ],
   "source": [
    "# Join\n",
    "# Crea una cadena de una lista, usando el separado especificado\n",
    "\n",
    "num_list = [\"123\",\"22\",\"399\"]\n",
    "separador = \"|\"\n",
    "print(separador.join(num_list))"
   ]
  },
  {
   "cell_type": "code",
   "execution_count": 30,
   "id": "9598f0f7",
   "metadata": {},
   "outputs": [
    {
     "name": "stdout",
     "output_type": "stream",
     "text": [
      "Probando capitalize\n"
     ]
    }
   ],
   "source": [
    "# Capitalize\n",
    "# Hace mayuscula la primer letra\n",
    "\n",
    "my_string = \"probando capitalize\"\n",
    "print(my_string.capitalize())"
   ]
  },
  {
   "cell_type": "code",
   "execution_count": 33,
   "id": "edd1b799",
   "metadata": {},
   "outputs": [
    {
     "name": "stdout",
     "output_type": "stream",
     "text": [
      "44 es el valor\n",
      "44 es el primer valor y 22 es el segundo valor\n",
      "Primero es el primer valor y Segundo es el segundo valor\n"
     ]
    }
   ],
   "source": [
    "# Format\n",
    "# Nos ayuda a configurar valores dentro de una cadena que es nuestro molde\n",
    "\n",
    "my_string = \"{} es el valor\"\n",
    "print(my_string.format(\"44\"))\n",
    "\n",
    "my_string = \"{} es el primer valor y {} es el segundo valor\"\n",
    "print(my_string.format(\"44\",\"22\"))\n",
    "\n",
    "my_string = \"{1} es el primer valor y {0} es el segundo valor\"\n",
    "print(my_string.format(\"Segundo\",\"Primero\"))"
   ]
  },
  {
   "cell_type": "code",
   "execution_count": 34,
   "id": "b608f3bc",
   "metadata": {},
   "outputs": [
    {
     "name": "stdout",
     "output_type": "stream",
     "text": [
      "[ Probando funciones ]\n",
      "[           Probando funciones           ]\n",
      "[                               Probando funciones                               ]\n"
     ]
    }
   ],
   "source": [
    "# Center\n",
    "# centra el texto dada cierta logitud\n",
    "\n",
    "my_string = \"Probando funciones\"\n",
    "print(\"[{}]\".format(my_string.center(20)))\n",
    "print(\"[{}]\".format(my_string.center(40)))\n",
    "print(\"[{}]\".format(my_string.center(80)))"
   ]
  },
  {
   "cell_type": "code",
   "execution_count": 36,
   "id": "53272dd3",
   "metadata": {},
   "outputs": [
    {
     "name": "stdout",
     "output_type": "stream",
     "text": [
      "True\n",
      "True\n"
     ]
    }
   ],
   "source": [
    "# endswith\n",
    "# Evalua si la cadena termina con el caracter, palabra o subcadena solicitada\n",
    "\n",
    "my_string = \"Probando funciones\"\n",
    "print(my_string.endswith(\"s\"))\n",
    "print(my_string.endswith(\"funciones\"))"
   ]
  },
  {
   "cell_type": "code",
   "execution_count": 37,
   "id": "3ade98ee",
   "metadata": {},
   "outputs": [
    {
     "name": "stdout",
     "output_type": "stream",
     "text": [
      "pROBANDO FUNCIONES\n"
     ]
    }
   ],
   "source": [
    "# swapcase\n",
    "# Invierte mayusculas y minusculas\n",
    "\n",
    "my_string = \"Probando funciones\"\n",
    "print(my_string.swapcase())"
   ]
  },
  {
   "cell_type": "code",
   "execution_count": 38,
   "id": "a28e171b",
   "metadata": {},
   "outputs": [
    {
     "name": "stdout",
     "output_type": "stream",
     "text": [
      "PrObandO funciOnes\n"
     ]
    }
   ],
   "source": [
    "# replace\n",
    "# Reemplaza una subcadena por otra subcadena, dentro de una cadena\n",
    "\n",
    "my_string = \"Probando funciones\"\n",
    "print(my_string.replace(\"o\",\"O\"))"
   ]
  },
  {
   "cell_type": "markdown",
   "id": "656b88c6",
   "metadata": {},
   "source": [
    "### Formateo de cadenas y datetime"
   ]
  },
  {
   "cell_type": "code",
   "execution_count": 40,
   "id": "891b7c5f",
   "metadata": {},
   "outputs": [
    {
     "name": "stdout",
     "output_type": "stream",
     "text": [
      "2024-01-09 16:53:51.303796\n",
      "Year: 2024\n",
      "Month: 01\n",
      "Day: 09\n",
      "Time: 16:53:51\n"
     ]
    }
   ],
   "source": [
    "from datetime import datetime\n",
    "now = datetime.now()\n",
    "\n",
    "print(now)\n",
    "\n",
    "#Format\n",
    "year = now.strftime(\"%Y\")\n",
    "month = now.strftime(\"%m\")\n",
    "day = now.strftime(\"%d\")\n",
    "time = now.strftime(\"%H:%M:%S\")\n",
    "\n",
    "print(\"Year:\", year)\n",
    "print(\"Month:\", month)\n",
    "print(\"Day:\", day)\n",
    "print(\"Time:\", time)"
   ]
  },
  {
   "cell_type": "code",
   "execution_count": 41,
   "id": "e0bfe95b",
   "metadata": {},
   "outputs": [
    {
     "name": "stdout",
     "output_type": "stream",
     "text": [
      "senoicnuf odnaborP\n"
     ]
    }
   ],
   "source": [
    "# Reverse\n",
    "# Invierte una cadena\n",
    "\n",
    "my_string = \"Probando funciones\"\n",
    "print(my_string[::-1])"
   ]
  },
  {
   "cell_type": "code",
   "execution_count": null,
   "id": "449df261",
   "metadata": {},
   "outputs": [],
   "source": []
  }
 ],
 "metadata": {
  "kernelspec": {
   "display_name": "Python 3 (ipykernel)",
   "language": "python",
   "name": "python3"
  },
  "language_info": {
   "codemirror_mode": {
    "name": "ipython",
    "version": 3
   },
   "file_extension": ".py",
   "mimetype": "text/x-python",
   "name": "python",
   "nbconvert_exporter": "python",
   "pygments_lexer": "ipython3",
   "version": "3.11.5"
  }
 },
 "nbformat": 4,
 "nbformat_minor": 5
}
