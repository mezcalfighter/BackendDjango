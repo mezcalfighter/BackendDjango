{
 "cells": [
  {
   "cell_type": "markdown",
   "id": "2027cc1b",
   "metadata": {},
   "source": [
    "## Diferentes formas de crear listas"
   ]
  },
  {
   "cell_type": "code",
   "execution_count": 1,
   "id": "3ec80c32",
   "metadata": {},
   "outputs": [
    {
     "name": "stdout",
     "output_type": "stream",
     "text": [
      "[3, 3, 3, 3, 3]\n"
     ]
    }
   ],
   "source": [
    "my_list = [3]*5\n",
    "print(my_list)"
   ]
  },
  {
   "cell_type": "code",
   "execution_count": 2,
   "id": "2dc29730",
   "metadata": {},
   "outputs": [
    {
     "name": "stdout",
     "output_type": "stream",
     "text": [
      "[1, 2, 3, 4, 5]\n"
     ]
    }
   ],
   "source": [
    "my_list = [1,2,3,4,5]\n",
    "print(my_list)"
   ]
  },
  {
   "cell_type": "code",
   "execution_count": 3,
   "id": "4363e077",
   "metadata": {},
   "outputs": [
    {
     "name": "stdout",
     "output_type": "stream",
     "text": [
      "[0, 1, 2, 3, 4, 5, 6, 7, 8, 9]\n"
     ]
    }
   ],
   "source": [
    "my_list = []\n",
    "for number in range(10):\n",
    "    my_list.append(number)\n",
    "print(my_list)"
   ]
  },
  {
   "cell_type": "code",
   "execution_count": 4,
   "id": "d770bcc2",
   "metadata": {},
   "outputs": [
    {
     "name": "stdout",
     "output_type": "stream",
     "text": [
      "[0, 1, 2, 3, 4, 5, 6, 7, 8, 9]\n"
     ]
    }
   ],
   "source": [
    "my_list = []\n",
    "for number in range(10):\n",
    "    my_list+=[number]\n",
    "print(my_list)"
   ]
  },
  {
   "cell_type": "code",
   "execution_count": 6,
   "id": "44ea6158",
   "metadata": {},
   "outputs": [
    {
     "name": "stdout",
     "output_type": "stream",
     "text": [
      "[0, 1, 2, 3, 4, 5, 6, 7, 8, 9]\n"
     ]
    }
   ],
   "source": [
    "my_list = [number for number in range(10)]\n",
    "print(my_list)"
   ]
  },
  {
   "cell_type": "markdown",
   "id": "05a3dca5",
   "metadata": {},
   "source": [
    "### Obtener sublistas"
   ]
  },
  {
   "cell_type": "code",
   "execution_count": 10,
   "id": "88a8a771",
   "metadata": {},
   "outputs": [
    {
     "name": "stdout",
     "output_type": "stream",
     "text": [
      "[5, 6, 7, 8, 9, 10, 11, 12, 13, 14]\n"
     ]
    }
   ],
   "source": [
    "my_list = [number for number in range(5,15)]\n",
    "print(my_list)"
   ]
  },
  {
   "cell_type": "code",
   "execution_count": 12,
   "id": "551d082e",
   "metadata": {},
   "outputs": [
    {
     "name": "stdout",
     "output_type": "stream",
     "text": [
      "[7, 8]\n"
     ]
    }
   ],
   "source": [
    "my_sublist = my_list[2:4]\n",
    "print(my_sublist)"
   ]
  },
  {
   "cell_type": "code",
   "execution_count": 13,
   "id": "4057ffbf",
   "metadata": {},
   "outputs": [
    {
     "name": "stdout",
     "output_type": "stream",
     "text": [
      "[9, 10, 11, 12, 13, 14]\n"
     ]
    }
   ],
   "source": [
    "my_sublist = my_list[4:]\n",
    "print(my_sublist)"
   ]
  },
  {
   "cell_type": "code",
   "execution_count": 14,
   "id": "b5c7955d",
   "metadata": {},
   "outputs": [
    {
     "name": "stdout",
     "output_type": "stream",
     "text": [
      "[7, 9, 11, 13]\n"
     ]
    }
   ],
   "source": [
    "my_sublist = my_list[2:10:2]\n",
    "print(my_sublist)"
   ]
  },
  {
   "cell_type": "markdown",
   "id": "a3e7db90",
   "metadata": {},
   "source": [
    "### Ordenando Listas"
   ]
  },
  {
   "cell_type": "code",
   "execution_count": 19,
   "id": "9497f6aa",
   "metadata": {},
   "outputs": [
    {
     "name": "stdout",
     "output_type": "stream",
     "text": [
      "[4, 2, 1, 5, 7, 9, 3, 6, 8]\n",
      "[1, 2, 3, 4, 5, 6, 7, 8, 9]\n",
      "[9, 8, 7, 6, 5, 4, 3, 2, 1]\n",
      "['Abeja', 'Ballena', 'Caballo', 'Perro']\n"
     ]
    }
   ],
   "source": [
    "my_list = [4,2,1,5,7,9,3,6,8]\n",
    "print(my_list)\n",
    "my_list.sort()\n",
    "print(my_list)\n",
    "my_list.sort(reverse=True)\n",
    "print(my_list)\n",
    "my_list = [\"Abeja\",\"Perro\",\"Ballena\",\"Caballo\"]\n",
    "my_list.sort()\n",
    "print(my_list)"
   ]
  },
  {
   "cell_type": "markdown",
   "id": "803c83d7",
   "metadata": {},
   "source": [
    "### Metodos para manipulacion de listas"
   ]
  },
  {
   "cell_type": "code",
   "execution_count": 20,
   "id": "ac91672f",
   "metadata": {},
   "outputs": [
    {
     "name": "stdout",
     "output_type": "stream",
     "text": [
      "['Abeja', 'Perro', 'Ballena', 'Caballo']\n",
      "['Abeja', 'Perro', 'Ballena', 'Caballo', 'Delfin']\n"
     ]
    }
   ],
   "source": [
    "#append  - Agrega un elemento al final de la lista\n",
    "my_list = [\"Abeja\",\"Perro\",\"Ballena\",\"Caballo\"]\n",
    "print(my_list)\n",
    "my_list.append(\"Delfin\")\n",
    "print(my_list)"
   ]
  },
  {
   "cell_type": "code",
   "execution_count": 21,
   "id": "4bbdbd49",
   "metadata": {},
   "outputs": [
    {
     "name": "stdout",
     "output_type": "stream",
     "text": [
      "['Abeja', 'Perro', 'Ballena', 'Caballo']\n",
      "['Abeja', 'Perro', 'Delfin', 'Ballena', 'Caballo']\n"
     ]
    }
   ],
   "source": [
    "#insert  - Agrega un elemento en una posicion especifica\n",
    "my_list = [\"Abeja\",\"Perro\",\"Ballena\",\"Caballo\"]\n",
    "print(my_list)\n",
    "my_list.insert(2,\"Delfin\")\n",
    "print(my_list)"
   ]
  },
  {
   "cell_type": "code",
   "execution_count": 22,
   "id": "e1e5745c",
   "metadata": {},
   "outputs": [
    {
     "name": "stdout",
     "output_type": "stream",
     "text": [
      "['Abeja', 'Perro', 'Ballena', 'Caballo']\n",
      "[]\n"
     ]
    }
   ],
   "source": [
    "# clear - Elima todos los elementos de la lista\n",
    "#insert  - Agrega un elemento en una posicion especifica\n",
    "my_list = [\"Abeja\",\"Perro\",\"Ballena\",\"Caballo\"]\n",
    "print(my_list)\n",
    "my_list.clear()\n",
    "print(my_list)"
   ]
  },
  {
   "cell_type": "code",
   "execution_count": 23,
   "id": "8ae171fa",
   "metadata": {},
   "outputs": [
    {
     "name": "stdout",
     "output_type": "stream",
     "text": [
      "['Abeja', 'Perro', 'Ballena', 'Caballo']\n",
      "['Abeja', 'Perro', 'Ballena', 'Caballo']\n",
      "ID List: 2205463621952\n",
      "ID Copy: 2205463585856\n"
     ]
    }
   ],
   "source": [
    "#copy  - Copia los elementos de la lista\n",
    "my_list = [\"Abeja\",\"Perro\",\"Ballena\",\"Caballo\"]\n",
    "print(my_list)\n",
    "copy_list = my_list.copy()\n",
    "print(copy_list)\n",
    "print(\"ID List:\", id(my_list))\n",
    "print(\"ID Copy:\", id(copy_list))"
   ]
  },
  {
   "cell_type": "code",
   "execution_count": 25,
   "id": "dd1f4882",
   "metadata": {},
   "outputs": [
    {
     "name": "stdout",
     "output_type": "stream",
     "text": [
      "['Abeja', 'Perro', 'Ballena', 'Caballo']\n",
      "Lista tiene: 1 Caballos\n"
     ]
    }
   ],
   "source": [
    "#count  - Cuenta cuantas veces aparece un elemento en una lista\n",
    "my_list = [\"Abeja\",\"Perro\",\"Ballena\",\"Caballo\"]\n",
    "print(my_list)\n",
    "print(\"Lista tiene:\",my_list.count(\"Caballo\"), \"Caballos\")"
   ]
  },
  {
   "cell_type": "code",
   "execution_count": 26,
   "id": "efc57fc2",
   "metadata": {},
   "outputs": [
    {
     "name": "stdout",
     "output_type": "stream",
     "text": [
      "['Abeja', 'Perro', 'Ballena', 'Caballo']\n",
      "Caballo aparece en la posicion: 3\n"
     ]
    }
   ],
   "source": [
    "#index  - Obtiene el primer indice de una lista que hace match con el elemento solicitado\n",
    "my_list = [\"Abeja\",\"Perro\",\"Ballena\",\"Caballo\"]\n",
    "print(my_list)\n",
    "print(\"Caballo aparece en la posicion:\",my_list.index(\"Caballo\"))"
   ]
  },
  {
   "cell_type": "code",
   "execution_count": 33,
   "id": "38c34492",
   "metadata": {},
   "outputs": [
    {
     "name": "stdout",
     "output_type": "stream",
     "text": [
      "['Abeja', 'Perro', 'Ballena', 'Caballo', 'Delfin', 'Pinguino', 'Pez Betta']\n"
     ]
    }
   ],
   "source": [
    "## Extend - Combinar dos listas\n",
    "first_list = [\"Abeja\",\"Perro\",\"Ballena\",\"Caballo\"]\n",
    "second_list = [\"Delfin\",\"Pinguino\",\"Pez Betta\"]\n",
    "first_list.extend(second_list)\n",
    "print(first_list)"
   ]
  },
  {
   "cell_type": "code",
   "execution_count": 34,
   "id": "6c2ee563",
   "metadata": {},
   "outputs": [
    {
     "data": {
      "text/plain": [
       "9"
      ]
     },
     "execution_count": 34,
     "metadata": {},
     "output_type": "execute_result"
    }
   ],
   "source": [
    "# Pop - Eliminar elementos de una lista basado en los indices\n",
    "my_list = [1,2,3,4,5,6,7,8,9]\n",
    "my_list.pop(2) #Se elimina la posicion 2, entonces el numero 3 va a ser eliminado y lo saca para usarlo\n",
    "my_list.pop() #Se elimina la ultima posicion del arreglo y lo saca para usarlo"
   ]
  },
  {
   "cell_type": "code",
   "execution_count": 35,
   "id": "7e7e6193",
   "metadata": {},
   "outputs": [],
   "source": [
    "#Reverse - Invierte el orden de una lista\n",
    "my_list.reverse()"
   ]
  },
  {
   "cell_type": "code",
   "execution_count": 36,
   "id": "de06cbb2",
   "metadata": {},
   "outputs": [],
   "source": [
    "#sort - ordena alfabeticamente o numericamente el arreglo\n",
    "my_list.sort()\n",
    "# Para ordenar alrevez\n",
    "my_list.sort(reverse=True)"
   ]
  },
  {
   "cell_type": "code",
   "execution_count": 37,
   "id": "6d5fe387",
   "metadata": {},
   "outputs": [
    {
     "name": "stdout",
     "output_type": "stream",
     "text": [
      "6\n"
     ]
    }
   ],
   "source": [
    "import random\n",
    "print(random.choice(my_list))"
   ]
  },
  {
   "cell_type": "code",
   "execution_count": null,
   "id": "01728c46",
   "metadata": {},
   "outputs": [],
   "source": []
  }
 ],
 "metadata": {
  "kernelspec": {
   "display_name": "Python 3 (ipykernel)",
   "language": "python",
   "name": "python3"
  },
  "language_info": {
   "codemirror_mode": {
    "name": "ipython",
    "version": 3
   },
   "file_extension": ".py",
   "mimetype": "text/x-python",
   "name": "python",
   "nbconvert_exporter": "python",
   "pygments_lexer": "ipython3",
   "version": "3.11.5"
  }
 },
 "nbformat": 4,
 "nbformat_minor": 5
}
