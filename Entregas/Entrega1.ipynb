{
 "cells": [
  {
   "cell_type": "code",
   "execution_count": 1,
   "id": "fa975ff4",
   "metadata": {},
   "outputs": [
    {
     "name": "stdout",
     "output_type": "stream",
     "text": [
      "Ingrese un entero, flotante y cadena seguidos de un espacio :12345 34.54 Emanuel\n"
     ]
    }
   ],
   "source": [
    "my_int, my_float, my_str = input('Ingrese un entero, flotante y cadena seguidos de un espacio :').split()"
   ]
  },
  {
   "cell_type": "code",
   "execution_count": 2,
   "id": "c55107cd",
   "metadata": {},
   "outputs": [
    {
     "name": "stdout",
     "output_type": "stream",
     "text": [
      "Entero:  12345\n",
      "Tipo:  <class 'int'>\n"
     ]
    }
   ],
   "source": [
    "print(\"Entero: \",my_int)\n",
    "print(\"Tipo: \",type(int(my_int)))"
   ]
  },
  {
   "cell_type": "code",
   "execution_count": 3,
   "id": "fce526d9",
   "metadata": {},
   "outputs": [
    {
     "name": "stdout",
     "output_type": "stream",
     "text": [
      "Flotante:  34.54\n",
      "Tipo:  <class 'float'>\n"
     ]
    }
   ],
   "source": [
    "print(\"Flotante: \",my_float)\n",
    "print(\"Tipo: \",type(float(my_float)))"
   ]
  },
  {
   "cell_type": "code",
   "execution_count": 4,
   "id": "3348dfee",
   "metadata": {},
   "outputs": [
    {
     "name": "stdout",
     "output_type": "stream",
     "text": [
      "Cadena:  Emanuel\n",
      "Tipo:  <class 'str'>\n"
     ]
    }
   ],
   "source": [
    "print(\"Cadena: \",my_str)\n",
    "print(\"Tipo: \",type(my_str))"
   ]
  },
  {
   "cell_type": "code",
   "execution_count": null,
   "id": "925db6f4",
   "metadata": {},
   "outputs": [],
   "source": []
  },
  {
   "cell_type": "code",
   "execution_count": null,
   "id": "80410549",
   "metadata": {},
   "outputs": [],
   "source": []
  }
 ],
 "metadata": {
  "kernelspec": {
   "display_name": "Python 3 (ipykernel)",
   "language": "python",
   "name": "python3"
  },
  "language_info": {
   "codemirror_mode": {
    "name": "ipython",
    "version": 3
   },
   "file_extension": ".py",
   "mimetype": "text/x-python",
   "name": "python",
   "nbconvert_exporter": "python",
   "pygments_lexer": "ipython3",
   "version": "3.11.5"
  }
 },
 "nbformat": 4,
 "nbformat_minor": 5
}
