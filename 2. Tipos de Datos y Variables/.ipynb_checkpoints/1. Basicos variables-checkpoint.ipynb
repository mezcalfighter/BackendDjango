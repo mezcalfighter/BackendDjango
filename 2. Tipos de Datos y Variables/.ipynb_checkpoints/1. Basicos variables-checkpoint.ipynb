{
 "cells": [
  {
   "cell_type": "markdown",
   "id": "9b82c935",
   "metadata": {},
   "source": [
    "## Panorama\n",
    "\n",
    "int - Integer / Enteros\n",
    "\n",
    "float - Float / Numeros con decimales\n",
    "\n",
    "complex Complejos/Numeros con una parte real y una imaginaria\n",
    "\n",
    "bool - Boolean/Valores Logicos (True/False)\n",
    "\n",
    "str - Strings / Cadenas, Textos"
   ]
  },
  {
   "cell_type": "markdown",
   "id": "a428a5fd",
   "metadata": {},
   "source": [
    "### Int - Integers / Enteros"
   ]
  },
  {
   "cell_type": "code",
   "execution_count": 1,
   "id": "872cf64e",
   "metadata": {},
   "outputs": [
    {
     "name": "stdout",
     "output_type": "stream",
     "text": [
      "El valor de my_int es: 11\n",
      "El tipo de dato de my_int es: <class 'int'>\n"
     ]
    }
   ],
   "source": [
    "my_int = 11\n",
    "print(\"El valor de my_int es:\",my_int)\n",
    "print(\"El tipo de dato de my_int es:\", type(my_int))"
   ]
  },
  {
   "cell_type": "markdown",
   "id": "8a1cf0da",
   "metadata": {},
   "source": [
    "### Float / Flotante / Numeros con decimales"
   ]
  },
  {
   "cell_type": "code",
   "execution_count": 2,
   "id": "0e5c0eec",
   "metadata": {},
   "outputs": [
    {
     "name": "stdout",
     "output_type": "stream",
     "text": [
      "El valor de my_float es: 11.1\n",
      "El tipo de dato de my_flot es: <class 'float'>\n"
     ]
    }
   ],
   "source": [
    "my_float = 11.1\n",
    "print(\"El valor de my_float es:\",my_float)\n",
    "print(\"El tipo de dato de my_flot es:\", type(my_float))"
   ]
  },
  {
   "cell_type": "code",
   "execution_count": 5,
   "id": "461fa31e",
   "metadata": {},
   "outputs": [
    {
     "name": "stdout",
     "output_type": "stream",
     "text": [
      "El valor de my_float es: 2000.0\n",
      "El tipo de dato de my_flot es: <class 'float'>\n"
     ]
    }
   ],
   "source": [
    "#Notacion cientifica\n",
    "my_float = 2e3 #  2.0*10**3\n",
    "print(\"El valor de my_float es:\",my_float)\n",
    "print(\"El tipo de dato de my_flot es:\", type(my_float))"
   ]
  },
  {
   "cell_type": "markdown",
   "id": "62c11bf2",
   "metadata": {},
   "source": [
    "### complex Complejos/Numeros con una parte real y una imaginaria\n",
    "\n",
    "complex = x + yj\n",
    "x = parte real\n",
    "yj = parte imaginaria"
   ]
  },
  {
   "cell_type": "code",
   "execution_count": 8,
   "id": "22f0dd9a",
   "metadata": {},
   "outputs": [
    {
     "name": "stdout",
     "output_type": "stream",
     "text": [
      "El valor de my_complex es: (3+9j)\n",
      "El tipo de dato de my_complex es: <class 'complex'>\n"
     ]
    }
   ],
   "source": [
    "my_complex = 3 + 9j\n",
    "print(\"El valor de my_complex es:\", my_complex)\n",
    "print(\"El tipo de dato de my_complex es:\", type(my_complex))"
   ]
  },
  {
   "cell_type": "markdown",
   "id": "77642996",
   "metadata": {},
   "source": [
    "### bool - Boolean/Valores Logicos (True/False)"
   ]
  },
  {
   "cell_type": "code",
   "execution_count": 7,
   "id": "4736a8f2",
   "metadata": {},
   "outputs": [
    {
     "name": "stdout",
     "output_type": "stream",
     "text": [
      "El valor de my_boolean es: False\n",
      "El tipo de dato de my_boolean es: <class 'bool'>\n"
     ]
    }
   ],
   "source": [
    "my_boolean = False\n",
    "print(\"El valor de my_boolean es:\", my_boolean)\n",
    "print(\"El tipo de dato de my_boolean es:\", type(my_boolean))"
   ]
  },
  {
   "cell_type": "markdown",
   "id": "1dfcfe87",
   "metadata": {},
   "source": [
    "### str - Strings / Cadenas, Textos"
   ]
  },
  {
   "cell_type": "code",
   "execution_count": 9,
   "id": "b9097855",
   "metadata": {},
   "outputs": [
    {
     "name": "stdout",
     "output_type": "stream",
     "text": [
      "El valor de my_str es: Backend Python\n",
      "El tipo de dato de my_str es: <class 'str'>\n"
     ]
    }
   ],
   "source": [
    "my_str = \"Backend Python\"\n",
    "print(\"El valor de my_str es:\", my_str)\n",
    "print(\"El tipo de dato de my_str es:\", type(my_str))"
   ]
  },
  {
   "cell_type": "code",
   "execution_count": 15,
   "id": "fa701b48",
   "metadata": {},
   "outputs": [
    {
     "name": "stdout",
     "output_type": "stream",
     "text": [
      "El valor de my_str es: You \"'\"re amazing\n",
      "El tipo de dato de my_str es: <class 'str'>\n"
     ]
    }
   ],
   "source": [
    "my_str = 'You \"\\'\"re amazing'\n",
    "print(\"El valor de my_str es:\", my_str)\n",
    "print(\"El tipo de dato de my_str es:\", type(my_str))"
   ]
  },
  {
   "cell_type": "markdown",
   "id": "8b07239a",
   "metadata": {},
   "source": [
    "### Variables Globales y Locales"
   ]
  },
  {
   "cell_type": "code",
   "execution_count": null,
   "id": "8754eb61",
   "metadata": {},
   "outputs": [],
   "source": [
    "my_global_var = \"Soy una variable global\"\n",
    "\n",
    "def func1():\n",
    "    my_local_var = \"soy una variable local\"\n",
    "    \n",
    "def func2():\n",
    "    global my_global_var = \"Soy una variable global\""
   ]
  }
 ],
 "metadata": {
  "kernelspec": {
   "display_name": "Python 3 (ipykernel)",
   "language": "python",
   "name": "python3"
  },
  "language_info": {
   "codemirror_mode": {
    "name": "ipython",
    "version": 3
   },
   "file_extension": ".py",
   "mimetype": "text/x-python",
   "name": "python",
   "nbconvert_exporter": "python",
   "pygments_lexer": "ipython3",
   "version": "3.11.5"
  }
 },
 "nbformat": 4,
 "nbformat_minor": 5
}
