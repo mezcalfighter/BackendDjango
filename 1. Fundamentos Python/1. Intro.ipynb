{
 "cells": [
  {
   "cell_type": "markdown",
   "id": "72ef9d61",
   "metadata": {},
   "source": [
    "# Python distingue entre mayusculas y minusculas"
   ]
  },
  {
   "cell_type": "code",
   "execution_count": null,
   "id": "ec4a927c",
   "metadata": {},
   "outputs": [],
   "source": [
    "a = \"Backend Python\"\n",
    "print(\"El curso es: \",a)"
   ]
  },
  {
   "cell_type": "markdown",
   "id": "2b1b16cc",
   "metadata": {},
   "source": [
    "## Palabras reservadas Python"
   ]
  },
  {
   "cell_type": "code",
   "execution_count": 3,
   "id": "03b39f1c",
   "metadata": {
    "scrolled": true
   },
   "outputs": [
    {
     "name": "stdout",
     "output_type": "stream",
     "text": [
      "\n",
      "Here is a list of the Python keywords.  Enter any keyword to get more help.\n",
      "\n",
      "False               class               from                or\n",
      "None                continue            global              pass\n",
      "True                def                 if                  raise\n",
      "and                 del                 import              return\n",
      "as                  elif                in                  try\n",
      "assert              else                is                  while\n",
      "async               except              lambda              with\n",
      "await               finally             nonlocal            yield\n",
      "break               for                 not                 \n",
      "\n"
     ]
    }
   ],
   "source": [
    "help(\"keywords\")"
   ]
  },
  {
   "cell_type": "markdown",
   "id": "4bb24e0e",
   "metadata": {},
   "source": [
    "## Palabras de Escape Python"
   ]
  },
  {
   "cell_type": "code",
   "execution_count": 5,
   "id": "f27c6b18",
   "metadata": {},
   "outputs": [
    {
     "data": {
      "text/plain": [
       "\"'\""
      ]
     },
     "execution_count": 5,
     "metadata": {},
     "output_type": "execute_result"
    }
   ],
   "source": [
    "\"\\'\" # Single quote o comilla sencilla"
   ]
  },
  {
   "cell_type": "markdown",
   "id": "6dd3a3e9",
   "metadata": {},
   "source": [
    "## Saltos de linea"
   ]
  },
  {
   "cell_type": "code",
   "execution_count": 6,
   "id": "60bfda3e",
   "metadata": {},
   "outputs": [
    {
     "name": "stdout",
     "output_type": "stream",
     "text": [
      "Backend Python \n",
      " De Ebac\n"
     ]
    }
   ],
   "source": [
    "\"\\n\"\n",
    "print(\"Backend Python \\n De Ebac\")"
   ]
  },
  {
   "cell_type": "code",
   "execution_count": null,
   "id": "3de275da",
   "metadata": {},
   "outputs": [],
   "source": []
  }
 ],
 "metadata": {
  "kernelspec": {
   "display_name": "Python 3 (ipykernel)",
   "language": "python",
   "name": "python3"
  },
  "language_info": {
   "codemirror_mode": {
    "name": "ipython",
    "version": 3
   },
   "file_extension": ".py",
   "mimetype": "text/x-python",
   "name": "python",
   "nbconvert_exporter": "python",
   "pygments_lexer": "ipython3",
   "version": "3.11.5"
  }
 },
 "nbformat": 4,
 "nbformat_minor": 5
}
