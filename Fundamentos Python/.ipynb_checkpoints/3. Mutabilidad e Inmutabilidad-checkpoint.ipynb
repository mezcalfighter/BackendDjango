{
 "cells": [
  {
   "cell_type": "markdown",
   "id": "664a2ae9",
   "metadata": {},
   "source": [
    "## Mutabilidad e Inmutabilidad"
   ]
  },
  {
   "cell_type": "markdown",
   "id": "6882175f",
   "metadata": {},
   "source": [
    "#### Inmutabilidad"
   ]
  },
  {
   "cell_type": "code",
   "execution_count": null,
   "id": "042c7ab5",
   "metadata": {},
   "outputs": [],
   "source": [
    "tuple = (1,2,3,4,5) #Inmutable"
   ]
  },
  {
   "cell_type": "markdown",
   "id": "6f798bd5",
   "metadata": {},
   "source": [
    "#### Mutabilidad"
   ]
  },
  {
   "cell_type": "code",
   "execution_count": 1,
   "id": "28340d78",
   "metadata": {},
   "outputs": [
    {
     "name": "stdout",
     "output_type": "stream",
     "text": [
      "['orange', 'blue', 'green']\n"
     ]
    }
   ],
   "source": [
    "colors = [\"red\", \"blue\",\"green\"] #mutable\n",
    "colors[0] = \"orange\"\n",
    "print(colors)"
   ]
  },
  {
   "cell_type": "code",
   "execution_count": null,
   "id": "f2c20e85",
   "metadata": {},
   "outputs": [],
   "source": []
  }
 ],
 "metadata": {
  "kernelspec": {
   "display_name": "Python 3 (ipykernel)",
   "language": "python",
   "name": "python3"
  },
  "language_info": {
   "codemirror_mode": {
    "name": "ipython",
    "version": 3
   },
   "file_extension": ".py",
   "mimetype": "text/x-python",
   "name": "python",
   "nbconvert_exporter": "python",
   "pygments_lexer": "ipython3",
   "version": "3.11.5"
  }
 },
 "nbformat": 4,
 "nbformat_minor": 5
}
