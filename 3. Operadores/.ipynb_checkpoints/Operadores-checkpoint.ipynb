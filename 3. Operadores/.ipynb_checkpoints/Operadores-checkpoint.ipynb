{
 "cells": [
  {
   "cell_type": "markdown",
   "id": "68dc9e1b",
   "metadata": {},
   "source": [
    "### Operadores y los Tipos de Operadores"
   ]
  },
  {
   "cell_type": "markdown",
   "id": "94d4cbf5",
   "metadata": {},
   "source": [
    "### Operadores aritmeticos\n",
    "- \"+\" Suma\n",
    "- \"-\" Resta\n",
    "- \"*\" Multiplicacion\n",
    "- \"/\" Division\n",
    "- \"//\" Division con redondeo hacia abajo\n",
    "- \"**\" Exponente"
   ]
  },
  {
   "cell_type": "code",
   "execution_count": 1,
   "id": "8149c78d",
   "metadata": {},
   "outputs": [
    {
     "name": "stdout",
     "output_type": "stream",
     "text": [
      "El resultado es:  700\n"
     ]
    }
   ],
   "source": [
    "#Suma \n",
    "num1 = 500\n",
    "num2 = 200\n",
    "print(\"El resultado es: \", num1 + num2)"
   ]
  },
  {
   "cell_type": "code",
   "execution_count": 2,
   "id": "297b5f51",
   "metadata": {},
   "outputs": [
    {
     "name": "stdout",
     "output_type": "stream",
     "text": [
      "El resultado es:  300\n"
     ]
    }
   ],
   "source": [
    "#Resta \n",
    "num1 = 500\n",
    "num2 = 200\n",
    "print(\"El resultado es: \", num1 - num2)"
   ]
  },
  {
   "cell_type": "code",
   "execution_count": 3,
   "id": "6c28ef6c",
   "metadata": {},
   "outputs": [
    {
     "name": "stdout",
     "output_type": "stream",
     "text": [
      "El resultado es:  100000\n"
     ]
    }
   ],
   "source": [
    "#Multiplicacion \n",
    "num1 = 500\n",
    "num2 = 200\n",
    "print(\"El resultado es: \", num1 * num2)"
   ]
  },
  {
   "cell_type": "code",
   "execution_count": 4,
   "id": "41539fe6",
   "metadata": {},
   "outputs": [
    {
     "name": "stdout",
     "output_type": "stream",
     "text": [
      "El resultado es:  2.5\n"
     ]
    }
   ],
   "source": [
    "#Division \n",
    "num1 = 500\n",
    "num2 = 200\n",
    "print(\"El resultado es: \", num1 / num2)"
   ]
  },
  {
   "cell_type": "code",
   "execution_count": 5,
   "id": "7f0157af",
   "metadata": {},
   "outputs": [
    {
     "name": "stdout",
     "output_type": "stream",
     "text": [
      "El resultado es:  2\n"
     ]
    }
   ],
   "source": [
    "#Division redondeo hacia abajo \n",
    "num1 = 500\n",
    "num2 = 200\n",
    "print(\"El resultado es: \", num1 // num2)"
   ]
  },
  {
   "cell_type": "code",
   "execution_count": 6,
   "id": "9e2578ac",
   "metadata": {},
   "outputs": [
    {
     "name": "stdout",
     "output_type": "stream",
     "text": [
      "El resultado es:  15625\n"
     ]
    }
   ],
   "source": [
    "#Exponente \n",
    "num1 = 5\n",
    "num2 = 6\n",
    "print(\"El resultado es: \", num1 ** num2)"
   ]
  },
  {
   "cell_type": "markdown",
   "id": "bcfbf676",
   "metadata": {},
   "source": [
    "### Operadores relacionales\n",
    "\n",
    "- Son tambien conocidos como operadores de comparacion\n",
    "- Regresan un valor booleano\n",
    "- En Python, son usados para comparar o relacionar los valores\n",
    "- Estos operadores se encargan de las operaciones de comparacion"
   ]
  },
  {
   "cell_type": "markdown",
   "id": "75a99797",
   "metadata": {},
   "source": [
    "#### Tipos de Operadores Relacionales\n",
    "- \"==\" igual a\n",
    "- \"!=\" diferente a \n",
    "- \">\" mayor que\n",
    "- \"<\" menor que\n",
    "- \">=\" mayor igual que\n",
    "- \"<=\" menor igual que"
   ]
  },
  {
   "cell_type": "markdown",
   "id": "5f8c34d3",
   "metadata": {},
   "source": [
    "### Operadores de Asignacion\n",
    "\n",
    "- En Python son usados para asignar valores a variables\n",
    "- Incluyen al operador de asignacion que es el signo de igual\n",
    "\n",
    "#### Tipos de Operadores de Asignacion\n",
    "- \"=\" Operador de asignacion\n",
    "- \"+=\" Sumar y asignar\n",
    "- \"-=\" Restar y asignar\n",
    "- \"*=\" Multiplicar y asignar\n",
    "- \"/=\" Dividir y Asignar\n",
    "- \"//=\" Dividir con redondeo hacia abajo y asignar\n",
    "- \"%=\" Modulo y asignar\n",
    "- \"**=\" Exponente y asignar"
   ]
  },
  {
   "cell_type": "markdown",
   "id": "f7583f7d",
   "metadata": {},
   "source": [
    "### Operadores Logicos\n",
    "\n",
    "- Son usados principalmente para declaraciones condicionales\n",
    "- Son indicadores estructurales\n",
    "- Tambien se les conoce como conectores logicos\n",
    "- Hay 3 tipos de operadores logicos:\n",
    "    - AND (y) - regresa True/Vedadero si ambas operaciones son verdaderas\n",
    "    - OR (o) - regresa True/Verdadero si por lo menos una de las operaciones es verdadera\n",
    "    - NOT(lo opuesto) - regresa /True/Verdadero si la operacion es False/Falso"
   ]
  },
  {
   "cell_type": "markdown",
   "id": "7ad9ab6e",
   "metadata": {},
   "source": [
    "### Operadores de Afiliacion\n",
    "\n",
    "- Son usados para validar los elementos en las listas, cadenas y tuplas\n",
    "- Validan si una variable esta presente en una secuencia\n",
    "- Regresan un valor booleano con el resultado True/ False\n",
    "- Regresan True/Verdadero si el valor esta presente en la secuencia\n",
    "- Regresan False/Falso si el valor no esta presente en la secuencia\n",
    "- Hay 2 operadores de afiliacion:\n",
    "    - IN - el valor esta en la secuencia\n",
    "    - NOT IN - el valor no esta en la secuencia"
   ]
  },
  {
   "cell_type": "code",
   "execution_count": 8,
   "id": "1e691ac0",
   "metadata": {},
   "outputs": [
    {
     "name": "stdout",
     "output_type": "stream",
     "text": [
      "'a' in my string True\n"
     ]
    }
   ],
   "source": [
    "my_string = \"Backend Python\"\n",
    "print(\"'a' in my string\", 'a' in my_string)"
   ]
  },
  {
   "cell_type": "code",
   "execution_count": 11,
   "id": "f7ae23bd",
   "metadata": {},
   "outputs": [
    {
     "name": "stdout",
     "output_type": "stream",
     "text": [
      "'j' in my string False\n"
     ]
    }
   ],
   "source": [
    "my_string = \"Backend Python\"\n",
    "print(\"'j' in my string\", 'j' in my_string)"
   ]
  },
  {
   "cell_type": "markdown",
   "id": "34183340",
   "metadata": {},
   "source": [
    "## Funciones Basicas\n",
    "\n",
    "### trunc()"
   ]
  },
  {
   "cell_type": "code",
   "execution_count": 12,
   "id": "e451fa5a",
   "metadata": {},
   "outputs": [
    {
     "name": "stdout",
     "output_type": "stream",
     "text": [
      "num1 = 64.99\n",
      "num2 = 64.5\n",
      "num3 = 64.51\n",
      "num4 = 64.0\n"
     ]
    }
   ],
   "source": [
    "num1 = 64.99\n",
    "num2 = 64.5\n",
    "num3 = 64.51\n",
    "num4 = 64.0000000000000001\n",
    "\n",
    "print(\"num1 =\", num1)\n",
    "print(\"num2 =\", num2)\n",
    "print(\"num3 =\", num3)\n",
    "print(\"num4 =\", num4)"
   ]
  },
  {
   "cell_type": "code",
   "execution_count": 13,
   "id": "fcd59c31",
   "metadata": {},
   "outputs": [
    {
     "name": "stdout",
     "output_type": "stream",
     "text": [
      "trunc(num1) = 64\n",
      "trunc(num2) = 64\n",
      "trunc(num3) = 64\n",
      "trunc(num4) = 64\n"
     ]
    }
   ],
   "source": [
    "from math import trunc\n",
    "\n",
    "num1 = 64.99\n",
    "num2 = 64.5\n",
    "num3 = 64.51\n",
    "num4 = 64.0000000000000001\n",
    "\n",
    "print(\"trunc(num1) =\", trunc(num1))\n",
    "print(\"trunc(num2) =\", trunc(num2))\n",
    "print(\"trunc(num3) =\", trunc(num3))\n",
    "print(\"trunc(num4) =\", trunc(num4))"
   ]
  },
  {
   "cell_type": "code",
   "execution_count": 18,
   "id": "389c73cf",
   "metadata": {},
   "outputs": [
    {
     "name": "stdout",
     "output_type": "stream",
     "text": [
      "round(num1) = 65\n",
      "round(num2) = 64\n",
      "round(num3) = 65\n",
      "round(num4) = 64\n",
      "ceil(num1) = 65\n",
      "ceil(num2) = 65\n",
      "ceil(num3) = 65\n",
      "ceil(num4) = 64\n",
      "floor(num1) = 64\n",
      "floor(num2) = 64\n",
      "floor(num3) = 64\n",
      "floor(num4) = 64\n"
     ]
    }
   ],
   "source": [
    "#round, ceil and floor\n",
    "from math import ceil, floor\n",
    "\n",
    "num1 = 64.99\n",
    "num2 = 64.5\n",
    "num3 = 64.51\n",
    "num4 = 64.0000000000000001\n",
    "\n",
    "print(\"round(num1) =\", round(num1))\n",
    "print(\"round(num2) =\", round(num2))\n",
    "print(\"round(num3) =\", round(num3))\n",
    "print(\"round(num4) =\", round(num4))\n",
    "\n",
    "print(\"ceil(num1) =\", ceil(num1))\n",
    "print(\"ceil(num2) =\", ceil(num2))\n",
    "print(\"ceil(num3) =\", ceil(num3))\n",
    "print(\"ceil(num4) =\", ceil(num4))\n",
    "\n",
    "print(\"floor(num1) =\", floor(num1))\n",
    "print(\"floor(num2) =\", floor(num2))\n",
    "print(\"floor(num3) =\", floor(num3))\n",
    "print(\"floor(num4) =\", floor(num4))"
   ]
  },
  {
   "cell_type": "markdown",
   "id": "95ec4e94",
   "metadata": {},
   "source": [
    "### Funcion %"
   ]
  },
  {
   "cell_type": "code",
   "execution_count": 19,
   "id": "97884b00",
   "metadata": {},
   "outputs": [
    {
     "name": "stdout",
     "output_type": "stream",
     "text": [
      "%.2 f % num1 = 64.99\n",
      "%.3 f % num1 = 64.990\n",
      "%.4 f % num1 = 64.9900\n",
      "%.5 f % num1 = 64.99000\n"
     ]
    }
   ],
   "source": [
    "num1 = 64.99\n",
    "num2 = 64.5\n",
    "num3 = 64.51\n",
    "num4 = 64.0000000000000001\n",
    "\n",
    "print(\"%.2 f % num1 =\", '%.2f' % num1)\n",
    "print(\"%.3 f % num1 =\", '%.3f' % num1)\n",
    "print(\"%.4 f % num1 =\", '%.4f' % num1)\n",
    "print(\"%.5 f % num1 =\", '%.5f' % num1)"
   ]
  },
  {
   "cell_type": "code",
   "execution_count": null,
   "id": "a39d01c9",
   "metadata": {},
   "outputs": [],
   "source": []
  }
 ],
 "metadata": {
  "kernelspec": {
   "display_name": "Python 3 (ipykernel)",
   "language": "python",
   "name": "python3"
  },
  "language_info": {
   "codemirror_mode": {
    "name": "ipython",
    "version": 3
   },
   "file_extension": ".py",
   "mimetype": "text/x-python",
   "name": "python",
   "nbconvert_exporter": "python",
   "pygments_lexer": "ipython3",
   "version": "3.11.5"
  }
 },
 "nbformat": 4,
 "nbformat_minor": 5
}
